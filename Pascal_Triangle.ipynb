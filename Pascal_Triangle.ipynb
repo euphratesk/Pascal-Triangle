{
 "cells": [
  {
   "cell_type": "code",
   "execution_count": null,
   "id": "c990720d",
   "metadata": {},
   "outputs": [],
   "source": [
    "#this is run for 7 rows pascal triangle\n",
    "\n",
    "import numpy as np\n",
    "from scipy.special import binom\n",
    "import os\n",
    "\n",
    "m= 0\n",
    "counter=0\n",
    "while counter <7:\n",
    "    \n",
    "    \n",
    "    \n",
    "    n = np.array(m)\n",
    "    k = np.array(range(m+1))\n",
    "    a = binom(n,k)\n",
    "    print(str(a).center(os.get_terminal_size().columns))\n",
    "    \n",
    "        \n",
    "    m+=1\n",
    "    counter+=1"
   ]
  },
  {
   "cell_type": "code",
   "execution_count": null,
   "id": "e5044141",
   "metadata": {},
   "outputs": [],
   "source": [
    "from scipy.special import binom\n",
    "import os\n",
    "\n",
    "l = []\n",
    "m= 0\n",
    "counter=0\n",
    "while counter <7:  \n",
    "       \n",
    "    n = m\n",
    "    for k in range(m+1):\n",
    "        a = binom(n,k)\n",
    "        l.append(str(int(a)))\n",
    "    print(\"-\".join(l).center(os.get_terminal_size().columns))    \n",
    "    l.clear()           \n",
    "    m+=1\n",
    "    counter+=1"
   ]
  }
 ],
 "metadata": {
  "kernelspec": {
   "display_name": "Python 3 (ipykernel)",
   "language": "python",
   "name": "python3"
  },
  "language_info": {
   "codemirror_mode": {
    "name": "ipython",
    "version": 3
   },
   "file_extension": ".py",
   "mimetype": "text/x-python",
   "name": "python",
   "nbconvert_exporter": "python",
   "pygments_lexer": "ipython3",
   "version": "3.9.13"
  }
 },
 "nbformat": 4,
 "nbformat_minor": 5
}
